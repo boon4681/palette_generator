{
 "cells": [
  {
   "cell_type": "markdown",
   "metadata": {},
   "source": [
    "# Loading data from colorhunt"
   ]
  },
  {
   "cell_type": "code",
   "execution_count": 4,
   "metadata": {},
   "outputs": [
    {
     "name": "stderr",
     "output_type": "stream",
     "text": [
      "Loading data: 100%|██████████| 64/64 [00:32<00:00,  1.98it/s]\n"
     ]
    }
   ],
   "source": [
    "from urllib import request,parse\n",
    "import json\n",
    "import time\n",
    "import random\n",
    "from tqdm import trange\n",
    "\n",
    "def load():\n",
    "    data = []\n",
    "    for i in trange(0,64,desc='Loading data'):\n",
    "        body = parse.urlencode({'step':i,'sort':'new','tags':'','timeframe':30}).encode()\n",
    "        Req = request.Request('https://colorhunt.co/php/feed.php',method='POST',headers={'content-type': 'application/x-www-form-urlencoded','User-Agent' :'Mozilla/4.0 (compatible; MSIE 5.5; Windows NT)'})\n",
    "        readed = request.urlopen(Req,data=body).read()\n",
    "        loads = json.loads(readed)\n",
    "        data += loads\n",
    "        time.sleep(random.randint(5,10)/100) # slow down to prevent http 429\n",
    "    return data\n",
    "\n",
    "with open('dataset/color.json','w') as f:\n",
    "    f.write(json.dumps(load()))"
   ]
  },
  {
   "cell_type": "markdown",
   "metadata": {},
   "source": [
    "# Process data\n",
    "\n"
   ]
  },
  {
   "cell_type": "code",
   "execution_count": 10,
   "metadata": {},
   "outputs": [
    {
     "name": "stderr",
     "output_type": "stream",
     "text": [
      "Transform color codes: 100%|██████████| 2546/2546 [00:39<00:00, 64.65it/s]\n"
     ]
    }
   ],
   "source": [
    "import json\n",
    "import time\n",
    "from tqdm import trange\n",
    "import random\n",
    "\n",
    "def color_code_split(code):\n",
    "    return [f'#{code[i:i+6]}'.upper() for i in range(0,len(code),6)]\n",
    "\n",
    "def hex_2_rbg(hex):\n",
    "    hex = hex.replace('##','#')\n",
    "    r = str(int('0x'+ hex[1:3],16))\n",
    "    g = str(int('0x'+ hex[3:5],16))\n",
    "    b = str(int('0x'+ hex[5:],16))\n",
    "    return (r,g,b)\n",
    "\n",
    "raw_data = []\n",
    "\n",
    "with open('dataset/color.json','r') as f:\n",
    "    raw_data = json.loads(f.read())\n",
    "\n",
    "data = []\n",
    "for i in trange(len(raw_data),desc=\"Transform color codes\"):\n",
    "    hex = color_code_split(raw_data[i]['code']) # transform color_code in data to hex\n",
    "    for l in range(len(hex)):\n",
    "        row = [str(i),'|'.join(hex_2_rbg(hex[l]))] # create palette id\n",
    "        row.append(raw_data[i]['likes'])\n",
    "        data.append(row)\n",
    "    time.sleep(0.0001)\n",
    "\n",
    "with open('dataset/color_processed.csv','w') as f:\n",
    "    f.write(\"paletteId,color_hex,likes\\n\" + '\\n'.join([','.join(i) for i in data]))"
   ]
  },
  {
   "cell_type": "markdown",
   "metadata": {},
   "source": [
    "# Training"
   ]
  },
  {
   "cell_type": "code",
   "execution_count": 11,
   "metadata": {},
   "outputs": [
    {
     "name": "stdout",
     "output_type": "stream",
     "text": [
      "0           26|26|64\n",
      "1           39|0|130\n",
      "2         122|11|192\n",
      "3         250|88|182\n",
      "4        249|228|212\n",
      "            ...     \n",
      "10179       34|14|36\n",
      "10180    125|216|125\n",
      "10181     76|145|115\n",
      "10182      91|68|106\n",
      "10183     144|99|135\n",
      "Name: color_hex, Length: 10184, dtype: object\n"
     ]
    }
   ],
   "source": [
    "import pandas as pd\n",
    "import numpy as np\n",
    "import tensorflow as tf\n",
    "from tensorflow import keras\n",
    "from tensorflow.keras import layers\n",
    "import matplotlib.pyplot as plt\n",
    "from sklearn.model_selection import train_test_split\n",
    "\n",
    "\n",
    "df = pd.read_csv('dataset/color_processed.csv')\n",
    "print(df['color_hex'])"
   ]
  }
 ],
 "metadata": {
  "interpreter": {
   "hash": "0b6d0d51acbfeb69f617f48baafc83fab6f7a134499de9b924f13fd4beb18db6"
  },
  "kernelspec": {
   "display_name": "Python 3.9.5 64-bit",
   "language": "python",
   "name": "python3"
  },
  "language_info": {
   "codemirror_mode": {
    "name": "ipython",
    "version": 3
   },
   "file_extension": ".py",
   "mimetype": "text/x-python",
   "name": "python",
   "nbconvert_exporter": "python",
   "pygments_lexer": "ipython3",
   "version": "3.9.5"
  },
  "orig_nbformat": 4
 },
 "nbformat": 4,
 "nbformat_minor": 2
}
