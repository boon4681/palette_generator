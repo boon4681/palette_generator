{
 "cells": [
  {
   "cell_type": "markdown",
   "metadata": {},
   "source": [
    "# Loading data from colorhunt"
   ]
  },
  {
   "cell_type": "code",
   "execution_count": 3,
   "metadata": {},
   "outputs": [
    {
     "name": "stderr",
     "output_type": "stream",
     "text": [
      "Loading data: 100%|██████████| 64/64 [00:37<00:00,  1.70it/s]\n"
     ]
    }
   ],
   "source": [
    "from urllib import request,parse\n",
    "import json\n",
    "import time\n",
    "import random\n",
    "from tqdm import trange\n",
    "\n",
    "def load():\n",
    "    data = []\n",
    "    for i in trange(0,64,desc='Loading data'):\n",
    "        body = parse.urlencode({'step':i,'sort':'new','tags':'','timeframe':30}).encode()\n",
    "        Req = request.Request('https://colorhunt.co/php/feed.php',method='POST',headers={'content-type': 'application/x-www-form-urlencoded','User-Agent' :'Mozilla/4.0 (compatible; MSIE 5.5; Windows NT)'})\n",
    "        readed = request.urlopen(Req,data=body).read()\n",
    "        loads = json.loads(readed)\n",
    "        data += loads\n",
    "        time.sleep(random.randint(5,10)/100) # slow down to prevent http 429\n",
    "    return data\n",
    "\n",
    "with open('dataset/color.json','w') as f:\n",
    "    f.write(json.dumps(load()))"
   ]
  },
  {
   "cell_type": "markdown",
   "metadata": {},
   "source": [
    "# Process data\n",
    "\n"
   ]
  },
  {
   "cell_type": "code",
   "execution_count": 113,
   "metadata": {},
   "outputs": [
    {
     "name": "stderr",
     "output_type": "stream",
     "text": [
      "Transform color codes: 100%|██████████| 2546/2546 [00:00<00:00, 5534.92it/s]\n"
     ]
    }
   ],
   "source": [
    "import json\n",
    "import time\n",
    "from tqdm import trange\n",
    "import random\n",
    "\n",
    "def color_code_split(code):\n",
    "    return [f'#{code[i:i+6]}'.upper() for i in range(0,len(code),6)]\n",
    "\n",
    "raw_data = []\n",
    "\n",
    "with open('dataset/color.json','r') as f:\n",
    "    raw_data = json.loads(f.read())\n",
    "\n",
    "data = []\n",
    "for i in trange(len(raw_data),desc=\"Transform color codes\"):\n",
    "    hex = color_code_split(raw_data[i]['code']) # transform color_code in data to hex\n",
    "    for l in range(len(hex)):\n",
    "        row = [str(i*4+l),hex[l],'|'.join(hex)] # create palette id\n",
    "        row.append(raw_data[i]['likes'])\n",
    "        data.append(row)\n",
    "    # time.sleep(0.0001)\n",
    "\n",
    "with open('dataset/color_processed.csv','w') as f:\n",
    "    f.write(\"id,base,palette,likes\\n\" + '\\n'.join([','.join(i) for i in data]))"
   ]
  },
  {
   "cell_type": "markdown",
   "metadata": {},
   "source": [
    "# Training"
   ]
  },
  {
   "cell_type": "code",
   "execution_count": 10,
   "metadata": {},
   "outputs": [],
   "source": [
    "import pandas as pd\n",
    "import numpy as np\n",
    "import tensorflow as tf\n",
    "from tensorflow import keras\n",
    "from tensorflow.keras import layers\n",
    "import matplotlib.pyplot as plt\n",
    "from sklearn.model_selection import train_test_split\n",
    "\n",
    "batch_size = 64\n",
    "\n",
    "def hex_2_rbg(hex):\n",
    "    hex = hex.replace('##','#')\n",
    "    r = (int('0x'+ hex[1:3],16))\n",
    "    g = (int('0x'+ hex[3:5],16))\n",
    "    b = (int('0x'+ hex[5:],16))\n",
    "    return [r,g,b]\n",
    "\n",
    "\n",
    "df = pd.read_csv('dataset/color_processed.csv')\n",
    "df['base'] = df['base'].map(lambda hex: np.asarray([hex_2_rbg(hex)]))\n",
    "df['palette'] = df['palette'].map(lambda hexs: np.asarray([[hex_2_rbg(i) for i in hexs.strip().split(\"|\")]]))\n",
    "\n",
    "x = []\n",
    "y = []\n",
    "for i in df['id']:\n",
    "    x.append(df['base'][i])\n",
    "    y.append(df['palette'][i])\n",
    "\n",
    "train_x, test_x, train_y, test_y = train_test_split( np.array(x) , np.array(y) , test_size=0.1 )\n",
    "dataset = tf.data.Dataset.from_tensor_slices( ( train_x , train_y ) )\n",
    "dataset = dataset.batch( batch_size )\n"
   ]
  }
 ],
 "metadata": {
  "interpreter": {
   "hash": "0b6d0d51acbfeb69f617f48baafc83fab6f7a134499de9b924f13fd4beb18db6"
  },
  "kernelspec": {
   "display_name": "Python 3.9.5 64-bit",
   "language": "python",
   "name": "python3"
  },
  "language_info": {
   "codemirror_mode": {
    "name": "ipython",
    "version": 3
   },
   "file_extension": ".py",
   "mimetype": "text/x-python",
   "name": "python",
   "nbconvert_exporter": "python",
   "pygments_lexer": "ipython3",
   "version": "3.9.5"
  },
  "orig_nbformat": 4
 },
 "nbformat": 4,
 "nbformat_minor": 2
}
